{
 "cells": [
  {
   "cell_type": "code",
   "execution_count": 1,
   "id": "b9161dcc",
   "metadata": {},
   "outputs": [],
   "source": [
    "# Given a list on integers, return a list with every other number squared\n",
    "# Example Input = [1,2,3,4,5]\n",
    "# Expected Output = [1,4,3,16,5] (edited) "
   ]
  },
  {
   "cell_type": "code",
   "execution_count": 33,
   "id": "585cd21e",
   "metadata": {},
   "outputs": [
    {
     "name": "stdout",
     "output_type": "stream",
     "text": [
      "[1, 2, 9, 4, 25]\n"
     ]
    }
   ],
   "source": [
    "input = [1,2,3,4,5]\n",
    "\n",
    "def squared(input):\n",
    "    result = []\n",
    "    for i, n in enumerate(input):\n",
    "        if i % 2 == 0:\n",
    "            result.append(input[i] ** 2)\n",
    "        else:\n",
    "            result.append(input[i])\n",
    "    return result\n",
    "\n",
    "results = squared(input)\n",
    "print(results)"
   ]
  },
  {
   "cell_type": "code",
   "execution_count": 39,
   "id": "09380c13",
   "metadata": {},
   "outputs": [
    {
     "name": "stdout",
     "output_type": "stream",
     "text": [
      "[1, 2, 9, 4, 25]\n"
     ]
    }
   ],
   "source": [
    "input = [1,2,3,4,5]\n",
    "\n",
    "def squared(input):\n",
    "    return [n ** 2 if i % 2 == 0 else n for i, n in enumerate(input)]\n",
    "\n",
    "results = squared(input)\n",
    "print(results)"
   ]
  },
  {
   "cell_type": "code",
   "execution_count": 40,
   "id": "44c792ad",
   "metadata": {},
   "outputs": [
    {
     "name": "stdout",
     "output_type": "stream",
     "text": [
      "[1, 2, 9, 4, 25]\n"
     ]
    }
   ],
   "source": [
    "input = [1,2,3,4,5]\n",
    "\n",
    "def squared(input):\n",
    "    return [n ** 2 if i % 2 == 0 else n for i in range(len(input)) for n in input[i:i+1]]\n",
    "\n",
    "results = squared(input)\n",
    "print(results)"
   ]
  }
 ],
 "metadata": {
  "kernelspec": {
   "display_name": "Python 3 (ipykernel)",
   "language": "python",
   "name": "python3"
  },
  "language_info": {
   "codemirror_mode": {
    "name": "ipython",
    "version": 3
   },
   "file_extension": ".py",
   "mimetype": "text/x-python",
   "name": "python",
   "nbconvert_exporter": "python",
   "pygments_lexer": "ipython3",
   "version": "3.9.13"
  }
 },
 "nbformat": 4,
 "nbformat_minor": 5
}
